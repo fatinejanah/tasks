{
  "nbformat": 4,
  "nbformat_minor": 0,
  "metadata": {
    "colab": {
      "provenance": []
    },
    "kernelspec": {
      "name": "python3",
      "display_name": "Python 3"
    },
    "language_info": {
      "name": "python"
    }
  },
  "cells": [
    {
      "cell_type": "code",
      "source": [
        "import pandas as pd\n",
        "\n",
        "# Charger le fichier CSV\n",
        "file_path = '/content/LoanExport.csv'\n",
        "df = pd.read_csv(file_path)\n",
        "\n",
        "# Afficher les premières lignes pour inspection\n",
        "print(df.head())\n",
        "\n",
        "# Identifier et gérer les valeurs manquantes\n",
        "print(df.isnull().sum())\n",
        "\n",
        "# Supprimer les doublons\n",
        "df = df.drop_duplicates()\n",
        "\n",
        "# Corriger les types de données si nécessaire\n",
        "# Exemple : Convertir 'FirstPaymentDate' et 'MaturityDate' en format date\n",
        "df['FirstPaymentDate'] = pd.to_datetime(df['FirstPaymentDate'], format='%Y%m')\n",
        "df['MaturityDate'] = pd.to_datetime(df['MaturityDate'], format='%Y%m')\n",
        "\n",
        "# Vérifier les types de données après correction\n",
        "print(df.dtypes)"
      ],
      "metadata": {
        "colab": {
          "base_uri": "https://localhost:8080/"
        },
        "id": "ohws545LrQWN",
        "outputId": "8ab8872e-a273-484c-f20c-c3ce74bcd406"
      },
      "execution_count": 1,
      "outputs": [
        {
          "output_type": "stream",
          "name": "stderr",
          "text": [
            "<ipython-input-1-5ec2c65b35dd>:5: DtypeWarning: Columns (18) have mixed types. Specify dtype option on import or set low_memory=False.\n",
            "  df = pd.read_csv(file_path)\n"
          ]
        },
        {
          "output_type": "stream",
          "name": "stdout",
          "text": [
            "   CreditScore  FirstPaymentDate FirstTimeHomebuyer  MaturityDate    MSA  MIP  \\\n",
            "0            0            199902                  N        202901  16974   25   \n",
            "1            0            199902                  N        202901  19740    0   \n",
            "2            0            199902                  N        202901  29940    0   \n",
            "3            0            199902                  N        202901  31084    0   \n",
            "4            0            199902                  N        202901  35644    0   \n",
            "\n",
            "   Units Occupancy  OCLTV  DTI  ...  PostalCode    LoanSeqNum  LoanPurpose  \\\n",
            "0      1         O     89   27  ...       60400  F199Q1268030            P   \n",
            "1      1         O     73   17  ...       80200  F199Q1015092            N   \n",
            "2      1         O     75   16  ...       66000  F199Q1266886            N   \n",
            "3      1         O     76   14  ...       90700  F199Q1178167            N   \n",
            "4      1         O     78   18  ...        7600  F199Q1178517            N   \n",
            "\n",
            "  OrigLoanTerm NumBorrowers SellerName          ServicerName EverDelinquent  \\\n",
            "0          360            2         FL  WASHINGTONMUTUALBANK              0   \n",
            "1          360            1         FT  CHASEHOMEFINANCELLC               0   \n",
            "2          360            2         FL  WASHINGTONMUTUALBANK              0   \n",
            "3          360            2         GM  GMACMTGECORP                      0   \n",
            "4          360            2         GM  GMACMTGECORP                      0   \n",
            "\n",
            "  MonthsDelinquent MonthsInRepayment  \n",
            "0                0                52  \n",
            "1                0               144  \n",
            "2                0                67  \n",
            "3                0                35  \n",
            "4                0                54  \n",
            "\n",
            "[5 rows x 28 columns]\n",
            "CreditScore               0\n",
            "FirstPaymentDate          0\n",
            "FirstTimeHomebuyer        0\n",
            "MaturityDate              0\n",
            "MSA                       0\n",
            "MIP                       0\n",
            "Units                     0\n",
            "Occupancy                 0\n",
            "OCLTV                     0\n",
            "DTI                       0\n",
            "OrigUPB                   0\n",
            "LTV                       0\n",
            "OrigInterestRate          0\n",
            "Channel                   0\n",
            "PPM                       0\n",
            "ProductType               0\n",
            "PropertyState             0\n",
            "PropertyType              0\n",
            "PostalCode                0\n",
            "LoanSeqNum                0\n",
            "LoanPurpose               0\n",
            "OrigLoanTerm              0\n",
            "NumBorrowers              0\n",
            "SellerName            24994\n",
            "ServicerName              0\n",
            "EverDelinquent            0\n",
            "MonthsDelinquent          0\n",
            "MonthsInRepayment         0\n",
            "dtype: int64\n",
            "CreditScore                    int64\n",
            "FirstPaymentDate      datetime64[ns]\n",
            "FirstTimeHomebuyer            object\n",
            "MaturityDate          datetime64[ns]\n",
            "MSA                           object\n",
            "MIP                            int64\n",
            "Units                          int64\n",
            "Occupancy                     object\n",
            "OCLTV                          int64\n",
            "DTI                            int64\n",
            "OrigUPB                        int64\n",
            "LTV                            int64\n",
            "OrigInterestRate             float64\n",
            "Channel                       object\n",
            "PPM                           object\n",
            "ProductType                   object\n",
            "PropertyState                 object\n",
            "PropertyType                  object\n",
            "PostalCode                    object\n",
            "LoanSeqNum                    object\n",
            "LoanPurpose                   object\n",
            "OrigLoanTerm                   int64\n",
            "NumBorrowers                  object\n",
            "SellerName                    object\n",
            "ServicerName                  object\n",
            "EverDelinquent                 int64\n",
            "MonthsDelinquent               int64\n",
            "MonthsInRepayment              int64\n",
            "dtype: object\n"
          ]
        }
      ]
    },
    {
      "cell_type": "code",
      "source": [
        "from sklearn.preprocessing import LabelEncoder, OneHotEncoder\n",
        "\n",
        "# Créer un encodeur pour les colonnes catégorielles\n",
        "label_encoder = LabelEncoder()\n",
        "\n",
        "# Liste des colonnes catégorielles\n",
        "categorical_columns = [\n",
        "    'FirstTimeHomebuyer', 'MSA', 'Occupancy', 'Channel', 'PPM',\n",
        "    'ProductType', 'PropertyState', 'PropertyType', 'PostalCode',\n",
        "    'LoanSeqNum', 'LoanPurpose', 'NumBorrowers', 'SellerName', 'ServicerName'\n",
        "]\n",
        "\n",
        "# Appliquer Label Encoding aux colonnes catégorielles\n",
        "for column in categorical_columns:\n",
        "    df[column] = label_encoder.fit_transform(df[column].astype(str))\n",
        "\n",
        "# Vérifier le résultat de l'encodage\n",
        "print(df.head())"
      ],
      "metadata": {
        "colab": {
          "base_uri": "https://localhost:8080/"
        },
        "id": "A7vn8_LorUpG",
        "outputId": "f8cb936c-0f28-43e5-a83a-67d77c493739"
      },
      "execution_count": 2,
      "outputs": [
        {
          "output_type": "stream",
          "name": "stdout",
          "text": [
            "   CreditScore FirstPaymentDate  FirstTimeHomebuyer MaturityDate  MSA  MIP  \\\n",
            "0            0       1999-02-01                   0   2029-01-01   68   25   \n",
            "1            0       1999-02-01                   0   2029-01-01   95    0   \n",
            "2            0       1999-02-01                   0   2029-01-01  198    0   \n",
            "3            0       1999-02-01                   0   2029-01-01  210    0   \n",
            "4            0       1999-02-01                   0   2029-01-01  250    0   \n",
            "\n",
            "   Units  Occupancy  OCLTV  DTI  ...  PostalCode  LoanSeqNum  LoanPurpose  \\\n",
            "0      1          1     89   27  ...         521      177680            2   \n",
            "1      1          1     73   17  ...         718        7145            1   \n",
            "2      1          1     75   16  ...         577      176597            1   \n",
            "3      1          1     76   14  ...         807      116959            1   \n",
            "4      1          1     78   18  ...         672      117300            1   \n",
            "\n",
            "   OrigLoanTerm  NumBorrowers  SellerName  ServicerName  EverDelinquent  \\\n",
            "0           360             1           7            17               0   \n",
            "1           360             0           8             3               0   \n",
            "2           360             1           7            17               0   \n",
            "3           360             1          10            10               0   \n",
            "4           360             1          10            10               0   \n",
            "\n",
            "   MonthsDelinquent  MonthsInRepayment  \n",
            "0                 0                 52  \n",
            "1                 0                144  \n",
            "2                 0                 67  \n",
            "3                 0                 35  \n",
            "4                 0                 54  \n",
            "\n",
            "[5 rows x 28 columns]\n"
          ]
        }
      ]
    },
    {
      "cell_type": "code",
      "source": [
        "# Enregistrer le fichier nettoyé en tant que LoadExport1.csv\n",
        "cleaned_file_path = '/content/LoadExport1.csv'\n",
        "df.to_csv(cleaned_file_path, index=False)\n",
        "\n",
        "# Télécharger le fichier sur votre PC\n",
        "from google.colab import files\n",
        "files.download(cleaned_file_path)"
      ],
      "metadata": {
        "colab": {
          "base_uri": "https://localhost:8080/",
          "height": 17
        },
        "id": "zEhQuzSLrZp9",
        "outputId": "65f7a67f-e16c-4716-8c7a-5b25b35687f6"
      },
      "execution_count": 3,
      "outputs": [
        {
          "output_type": "display_data",
          "data": {
            "text/plain": [
              "<IPython.core.display.Javascript object>"
            ],
            "application/javascript": [
              "\n",
              "    async function download(id, filename, size) {\n",
              "      if (!google.colab.kernel.accessAllowed) {\n",
              "        return;\n",
              "      }\n",
              "      const div = document.createElement('div');\n",
              "      const label = document.createElement('label');\n",
              "      label.textContent = `Downloading \"${filename}\": `;\n",
              "      div.appendChild(label);\n",
              "      const progress = document.createElement('progress');\n",
              "      progress.max = size;\n",
              "      div.appendChild(progress);\n",
              "      document.body.appendChild(div);\n",
              "\n",
              "      const buffers = [];\n",
              "      let downloaded = 0;\n",
              "\n",
              "      const channel = await google.colab.kernel.comms.open(id);\n",
              "      // Send a message to notify the kernel that we're ready.\n",
              "      channel.send({})\n",
              "\n",
              "      for await (const message of channel.messages) {\n",
              "        // Send a message to notify the kernel that we're ready.\n",
              "        channel.send({})\n",
              "        if (message.buffers) {\n",
              "          for (const buffer of message.buffers) {\n",
              "            buffers.push(buffer);\n",
              "            downloaded += buffer.byteLength;\n",
              "            progress.value = downloaded;\n",
              "          }\n",
              "        }\n",
              "      }\n",
              "      const blob = new Blob(buffers, {type: 'application/binary'});\n",
              "      const a = document.createElement('a');\n",
              "      a.href = window.URL.createObjectURL(blob);\n",
              "      a.download = filename;\n",
              "      div.appendChild(a);\n",
              "      a.click();\n",
              "      div.remove();\n",
              "    }\n",
              "  "
            ]
          },
          "metadata": {}
        },
        {
          "output_type": "display_data",
          "data": {
            "text/plain": [
              "<IPython.core.display.Javascript object>"
            ],
            "application/javascript": [
              "download(\"download_25a15fc9-5333-4c49-9b51-0132d442bbb9\", \"LoadExport1.csv\", 29272944)"
            ]
          },
          "metadata": {}
        }
      ]
    }
  ]
}